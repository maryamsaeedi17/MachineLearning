{
 "cells": [
  {
   "cell_type": "code",
   "execution_count": 1,
   "metadata": {},
   "outputs": [],
   "source": [
    "import pandas as pd\n",
    "from sklearn.model_selection import train_test_split\n",
    "from sklearn.metrics import precision_score, recall_score\n",
    "from perceptron import Perceptron"
   ]
  },
  {
   "cell_type": "code",
   "execution_count": 2,
   "metadata": {},
   "outputs": [
    {
     "data": {
      "text/plain": [
       "bmi                    0\n",
       "Age                    0\n",
       "asa_status             0\n",
       "baseline_cancer        0\n",
       "baseline_charlson      0\n",
       "baseline_cvd           0\n",
       "baseline_dementia      0\n",
       "baseline_diabetes      0\n",
       "baseline_digestive     0\n",
       "baseline_osteoart      0\n",
       "baseline_psych         0\n",
       "baseline_pulmonary     0\n",
       "ahrq_ccs               0\n",
       "ccsComplicationRate    0\n",
       "ccsMort30Rate          0\n",
       "complication_rsi       0\n",
       "dow                    0\n",
       "gender                 0\n",
       "hour                   0\n",
       "month                  0\n",
       "moonphase              0\n",
       "mort30                 0\n",
       "mortality_rsi          0\n",
       "race                   0\n",
       "complication           0\n",
       "dtype: int64"
      ]
     },
     "execution_count": 2,
     "metadata": {},
     "output_type": "execute_result"
    }
   ],
   "source": [
    "df = pd.read_csv(\"Input/Surgical-deepnet.csv\")\n",
    "#df.head()\n",
    "df.isnull().sum()"
   ]
  },
  {
   "cell_type": "code",
   "execution_count": 3,
   "metadata": {},
   "outputs": [],
   "source": [
    "X = df.drop(\"complication\", axis=1).copy().values\n",
    "Y = df[\"complication\"].copy().values\n",
    "X_train, X_test, Y_train, Y_test = train_test_split(X, Y, test_size=0.2)"
   ]
  },
  {
   "cell_type": "code",
   "execution_count": 4,
   "metadata": {},
   "outputs": [],
   "source": [
    "model= Perceptron(X_train.shape[1], 0.001, 128)\n",
    "model.fit(X_train, Y_train, X_test, Y_test)\n",
    "Y_pred = model.predict(X_test)\n",
    "Y_test = Y_test.reshape(-1, 1)"
   ]
  },
  {
   "cell_type": "code",
   "execution_count": 5,
   "metadata": {},
   "outputs": [],
   "source": [
    "def calculate_TP_FP_FN(Y_pred, Y_test):\n",
    "    TP= FP= FN= 0\n",
    "    for (y_pred, y) in zip(Y_pred, Y_test):\n",
    "        if y_pred == 1:\n",
    "            if y == 1:\n",
    "                TP += 1\n",
    "            else:\n",
    "                FP += 1\n",
    "        else:\n",
    "            if y == 1:\n",
    "                FN += 1\n",
    "    return TP, FP, FN\n"
   ]
  },
  {
   "cell_type": "code",
   "execution_count": 6,
   "metadata": {},
   "outputs": [
    {
     "name": "stdout",
     "output_type": "stream",
     "text": [
      "     My precision:  0.69202\n",
      "Sklearn precision:  0.69202\n",
      "        My recall:  0.69202\n",
      "   Sklearn recall:  0.69202\n"
     ]
    }
   ],
   "source": [
    "TP, FP, FN = calculate_TP_FP_FN(Y_pred, Y_test)\n",
    "My_precision = TP / (TP + FP)\n",
    "My_recall = TP / (TP + FN)\n",
    "\n",
    "sklearn_precision = precision_score(Y_test, Y_pred, average= \"binary\")\n",
    "sklearn_recall = recall_score(Y_test, Y_pred, average= \"binary\")\n",
    "\n",
    "print(\"     My precision: {0: .5f}\".format(My_precision))\n",
    "print(\"Sklearn precision: {0: .5f}\".format(My_precision))\n",
    "print(\"        My recall: {0: .5f}\".format(My_precision))\n",
    "print(\"   Sklearn recall: {0: .5f}\".format(My_precision))"
   ]
  }
 ],
 "metadata": {
  "kernelspec": {
   "display_name": "Python 3",
   "language": "python",
   "name": "python3"
  },
  "language_info": {
   "codemirror_mode": {
    "name": "ipython",
    "version": 3
   },
   "file_extension": ".py",
   "mimetype": "text/x-python",
   "name": "python",
   "nbconvert_exporter": "python",
   "pygments_lexer": "ipython3",
   "version": "3.10.2"
  },
  "orig_nbformat": 4
 },
 "nbformat": 4,
 "nbformat_minor": 2
}
