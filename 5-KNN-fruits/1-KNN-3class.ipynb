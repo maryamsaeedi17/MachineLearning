{
 "cells": [
  {
   "cell_type": "markdown",
   "metadata": {},
   "source": [
    "![3fruits](Input\\watermelon-banana-and-apple-fruits-vector-15297432.jpg)\n",
    "\n",
    "- apple width ≈ 6cm\n",
    "- apple length ≈ 6cm\n",
    "\n",
    "- banana width ≈ 4cm\n",
    "- banana length ≈ 20cm\n",
    "\n",
    "- watermelon width ≈ 25cm\n",
    "- watermelon length ≈ 25 cm\n",
    "\n",
    "apple: 0\n",
    "banana: 1\n",
    "watermelon: 2"
   ]
  },
  {
   "cell_type": "code",
   "execution_count": 1,
   "metadata": {},
   "outputs": [],
   "source": [
    "import numpy as np\n",
    "import matplotlib.pyplot as plt"
   ]
  },
  {
   "cell_type": "code",
   "execution_count": 2,
   "metadata": {},
   "outputs": [],
   "source": [
    "n=100\n",
    "apple_width=np.random.normal(6, 1, n)\n",
    "apple_length=np.random.normal(6, 1, n)\n",
    "\n",
    "banana_width=np.random.normal(4, 1, n)\n",
    "banana_length=np.random.normal(20, 1, n)\n",
    "\n",
    "watermelon_width=np.random.normal(25, 1, n)\n",
    "watermelon_length=np.random.normal(25, 1, n)\n"
   ]
  },
  {
   "cell_type": "code",
   "execution_count": 3,
   "metadata": {},
   "outputs": [],
   "source": [
    "x_width=3\n",
    "x_lengh=9\n",
    "\n",
    "y_width=20\n",
    "y_lengh=23\n",
    "\n",
    "z_width=15\n",
    "z_lengh=15"
   ]
  },
  {
   "cell_type": "code",
   "execution_count": 4,
   "metadata": {},
   "outputs": [
    {
     "data": {
      "image/png": "[encoded data removed]",
      "text/plain": [
       "<Figure size 432x288 with 1 Axes>"
      ]
     },
     "metadata": {
      "needs_background": "light"
     },
     "output_type": "display_data"
    }
   ],
   "source": [
    "plt.scatter(apple_width, apple_length, c=\"red\", marker=\".\")\n",
    "plt.scatter(banana_width, banana_length, c=\"yellow\", marker=\".\")\n",
    "plt.scatter(watermelon_width, watermelon_length, c=\"green\", marker=\".\")\n",
    "plt.scatter(x_width, x_lengh, c=\"blue\", marker=\"o\")\n",
    "plt.scatter(y_width, y_lengh, c=\"purple\", marker=\"o\")\n",
    "plt.scatter(z_width, z_lengh, c=\"black\", marker=\"o\")\n",
    "plt.title(\"Apple, banana and watermelon\")\n",
    "plt.xlabel(\"Width\")\n",
    "plt.ylabel(\"Length\")\n",
    "plt.show()"
   ]
  },
  {
   "cell_type": "code",
   "execution_count": 5,
   "metadata": {},
   "outputs": [
    {
     "data": {
      "text/plain": [
       "(300, 2)"
      ]
     },
     "execution_count": 5,
     "metadata": {},
     "output_type": "execute_result"
    }
   ],
   "source": [
    "width = np.concatenate((apple_width, banana_width, watermelon_width))\n",
    "length = np.concatenate((apple_length, banana_length, watermelon_length))\n",
    "\n",
    "X_train=np.array([width, length]).T\n",
    "X_train.shape\n"
   ]
  },
  {
   "cell_type": "code",
   "execution_count": 6,
   "metadata": {},
   "outputs": [
    {
     "data": {
      "text/plain": [
       "array([0, 0, 0, 0, 0, 0, 0, 0, 0, 0, 0, 0, 0, 0, 0, 0, 0, 0, 0, 0, 0, 0,\n",
       "       0, 0, 0, 0, 0, 0, 0, 0, 0, 0, 0, 0, 0, 0, 0, 0, 0, 0, 0, 0, 0, 0,\n",
       "       0, 0, 0, 0, 0, 0, 0, 0, 0, 0, 0, 0, 0, 0, 0, 0, 0, 0, 0, 0, 0, 0,\n",
       "       0, 0, 0, 0, 0, 0, 0, 0, 0, 0, 0, 0, 0, 0, 0, 0, 0, 0, 0, 0, 0, 0,\n",
       "       0, 0, 0, 0, 0, 0, 0, 0, 0, 0, 0, 0, 1, 1, 1, 1, 1, 1, 1, 1, 1, 1,\n",
       "       1, 1, 1, 1, 1, 1, 1, 1, 1, 1, 1, 1, 1, 1, 1, 1, 1, 1, 1, 1, 1, 1,\n",
       "       1, 1, 1, 1, 1, 1, 1, 1, 1, 1, 1, 1, 1, 1, 1, 1, 1, 1, 1, 1, 1, 1,\n",
       "       1, 1, 1, 1, 1, 1, 1, 1, 1, 1, 1, 1, 1, 1, 1, 1, 1, 1, 1, 1, 1, 1,\n",
       "       1, 1, 1, 1, 1, 1, 1, 1, 1, 1, 1, 1, 1, 1, 1, 1, 1, 1, 1, 1, 1, 1,\n",
       "       1, 1, 2, 2, 2, 2, 2, 2, 2, 2, 2, 2, 2, 2, 2, 2, 2, 2, 2, 2, 2, 2,\n",
       "       2, 2, 2, 2, 2, 2, 2, 2, 2, 2, 2, 2, 2, 2, 2, 2, 2, 2, 2, 2, 2, 2,\n",
       "       2, 2, 2, 2, 2, 2, 2, 2, 2, 2, 2, 2, 2, 2, 2, 2, 2, 2, 2, 2, 2, 2,\n",
       "       2, 2, 2, 2, 2, 2, 2, 2, 2, 2, 2, 2, 2, 2, 2, 2, 2, 2, 2, 2, 2, 2,\n",
       "       2, 2, 2, 2, 2, 2, 2, 2, 2, 2, 2, 2, 2, 2])"
      ]
     },
     "execution_count": 6,
     "metadata": {},
     "output_type": "execute_result"
    }
   ],
   "source": [
    "Y_apples=np.zeros(n, dtype=int)\n",
    "Y_bananas=np.ones(n, dtype=int)\n",
    "Y_watermelon=np.ones(n, dtype=int)*2\n",
    "\n",
    "Y_train=np.concatenate((Y_apples, Y_bananas, Y_watermelon))\n",
    "Y_train"
   ]
  },
  {
   "cell_type": "code",
   "execution_count": 7,
   "metadata": {},
   "outputs": [],
   "source": [
    "def euclidean_distance(x1, x2):\n",
    "    return np.sqrt(np.sum((x1 - x2)**2))"
   ]
  },
  {
   "cell_type": "code",
   "execution_count": 21,
   "metadata": {},
   "outputs": [
    {
     "data": {
      "text/plain": [
       "[10.979864980779217,\n",
       " 12.49126305660938,\n",
       " 12.64238500688568,\n",
       " 12.974272345957697,\n",
       " 10.0515108876604,\n",
       " 13.553034820988389,\n",
       " 13.697270998428037,\n",
       " 13.246983895917122,\n",
       " 13.712784097977549,\n",
       " 12.542902609355561,\n",
       " 13.114238892729457,\n",
       " 12.053096596992031,\n",
       " 13.699742671622268,\n",
       " 12.295499550206223,\n",
       " 12.992754745698509,\n",
       " 13.702410509590718,\n",
       " 13.554824578928482,\n",
       " 10.649110470914165,\n",
       " 13.435264752060597,\n",
       " 12.479202364883045,\n",
       " 13.3730822292442,\n",
       " 13.444144943075939,\n",
       " 12.687544281134176,\n",
       " 12.88973341651399,\n",
       " 12.827575582323425,\n",
       " 14.13698242373858,\n",
       " 11.857956080065057,\n",
       " 14.542006421871125,\n",
       " 12.648174696475357,\n",
       " 14.188683017427993,\n",
       " 14.877247994054677,\n",
       " 14.348004767143713,\n",
       " 13.200230866422963,\n",
       " 15.35969590261323,\n",
       " 12.370863550095677,\n",
       " 12.312147311500592,\n",
       " 13.389262928802092,\n",
       " 13.800396805852023,\n",
       " 11.534298490638399,\n",
       " 11.855670828044188,\n",
       " 14.476318171710624,\n",
       " 12.653471091723626,\n",
       " 13.198023079427099,\n",
       " 11.75743002657621,\n",
       " 14.168438827955965,\n",
       " 12.065372875475308,\n",
       " 11.412323539922632,\n",
       " 13.351891757808723,\n",
       " 11.747989950551995,\n",
       " 12.25009766520067,\n",
       " 12.248542772077768,\n",
       " 12.13161010937279,\n",
       " 13.67183946134513,\n",
       " 12.274512072173833,\n",
       " 12.091009062592063,\n",
       " 11.199745985836737,\n",
       " 12.134604909839265,\n",
       " 13.13166581269199,\n",
       " 11.599860024881888,\n",
       " 13.926322020615892,\n",
       " 12.57133359667445,\n",
       " 15.465908730882841,\n",
       " 12.863076651125779,\n",
       " 12.793860448750772,\n",
       " 12.983515074060472,\n",
       " 11.803586700327099,\n",
       " 13.270619539806075,\n",
       " 11.623286668233664,\n",
       " 14.271802953225576,\n",
       " 12.593954552781769,\n",
       " 13.285651957874487,\n",
       " 11.746397146570127,\n",
       " 13.893796065096021,\n",
       " 14.468012749719458,\n",
       " 12.841214119978796,\n",
       " 12.60325889735964,\n",
       " 10.935193860957668,\n",
       " 14.288081272563566,\n",
       " 14.250714828258387,\n",
       " 13.999744345210805,\n",
       " 13.09680534477794,\n",
       " 12.606343206000348,\n",
       " 13.70187091818675,\n",
       " 12.682171873913951,\n",
       " 13.677022546222387,\n",
       " 13.574098654134103,\n",
       " 13.53061704962175,\n",
       " 11.420459744519157,\n",
       " 13.98334507658055,\n",
       " 12.850450201754597,\n",
       " 12.8193646756384,\n",
       " 13.204872629592378,\n",
       " 13.429510035364713,\n",
       " 13.780535186060572,\n",
       " 14.360940928863336,\n",
       " 12.273548609564337,\n",
       " 13.13678575722519,\n",
       " 12.601375757648643,\n",
       " 13.111123777222822,\n",
       " 14.317721691212206,\n",
       " 12.248644781078914,\n",
       " 11.439163352247299,\n",
       " 12.05412465326443,\n",
       " 12.392848214734679,\n",
       " 11.764847134697842,\n",
       " 11.731718924955883,\n",
       " 12.120283974101094,\n",
       " 11.170250918005626,\n",
       " 12.765269357780635,\n",
       " 12.85537963128796,\n",
       " 13.945324665895347,\n",
       " 14.100849654429174,\n",
       " 10.855542679957853,\n",
       " 12.008605088660506,\n",
       " 11.566365963385552,\n",
       " 11.767226302156073,\n",
       " 11.136146537927763,\n",
       " 11.723171973145043,\n",
       " 11.226808228003634,\n",
       " 11.858498735025059,\n",
       " 11.816649153092573,\n",
       " 12.454726854878519,\n",
       " 11.835155906672513,\n",
       " 12.482670256142482,\n",
       " 11.513865405969202,\n",
       " 13.612111386324647,\n",
       " 12.176197341170385,\n",
       " 11.11481222973711,\n",
       " 12.824880627017604,\n",
       " 12.0077524792328,\n",
       " 12.244966779989973,\n",
       " 9.602257195640343,\n",
       " 12.978884776753361,\n",
       " 12.838298437039768,\n",
       " 12.016776828363193,\n",
       " 12.287400653161427,\n",
       " 12.634446127510655,\n",
       " 12.202041408701781,\n",
       " 12.06683584009643,\n",
       " 13.1350813120769,\n",
       " 13.07676233535022,\n",
       " 12.435367048418213,\n",
       " 10.91932838869192,\n",
       " 11.467109539920434,\n",
       " 12.35713100679557,\n",
       " 12.303046995859164,\n",
       " 12.277370458035659,\n",
       " 12.436956712780669,\n",
       " 13.610174729903513,\n",
       " 13.214654679639905,\n",
       " 14.428423500201102,\n",
       " 11.298395847049168,\n",
       " 10.804966546147558,\n",
       " 12.928321746161926,\n",
       " 13.168269609549961,\n",
       " 11.533177442418182,\n",
       " 10.499899042935729,\n",
       " 12.052297223533888,\n",
       " 13.427495452695904,\n",
       " 11.844018304195377,\n",
       " 11.390032817389582,\n",
       " 10.883632212463768,\n",
       " 11.420966421605243,\n",
       " 10.993064307642227,\n",
       " 12.235745377844335,\n",
       " 12.089591680983077,\n",
       " 13.618531504334623,\n",
       " 12.604602112603038,\n",
       " 9.21526845281671,\n",
       " 11.899916162779048,\n",
       " 11.224372751195062,\n",
       " 12.2535202346226,\n",
       " 11.016209057763158,\n",
       " 11.88571413612905,\n",
       " 11.913529572136282,\n",
       " 15.492853724398948,\n",
       " 12.105693740444776,\n",
       " 13.170499419969273,\n",
       " 10.727610247194523,\n",
       " 12.139319645939763,\n",
       " 12.54976924711905,\n",
       " 11.830274333187335,\n",
       " 14.339645179974998,\n",
       " 13.173486222107853,\n",
       " 13.537108881011678,\n",
       " 12.182445800979904,\n",
       " 11.98035783215545,\n",
       " 10.666406224371906,\n",
       " 11.761765490005438,\n",
       " 10.225611853113373,\n",
       " 10.892280160744756,\n",
       " 11.215174291932172,\n",
       " 10.5339843540702,\n",
       " 11.5587593070095,\n",
       " 12.900444502956457,\n",
       " 10.246412085088048,\n",
       " 11.440584258599875,\n",
       " 11.016234408970632,\n",
       " 12.187867110282152,\n",
       " 13.542407594145532,\n",
       " 13.621991304915293,\n",
       " 13.64108945771331,\n",
       " 14.28247065740054,\n",
       " 12.419335367317826,\n",
       " 13.176793828419338,\n",
       " 13.99694164177826,\n",
       " 13.162180407638637,\n",
       " 14.493855842852774,\n",
       " 15.063391677605377,\n",
       " 14.25304942025604,\n",
       " 14.064473856710109,\n",
       " 14.968402165774414,\n",
       " 13.736451540712592,\n",
       " 14.025644870896917,\n",
       " 13.440014697994654,\n",
       " 12.43744902608421,\n",
       " 16.179162382851178,\n",
       " 15.213694290472045,\n",
       " 13.186895193291075,\n",
       " 12.955389685431664,\n",
       " 14.102675795174722,\n",
       " 12.179909877472914,\n",
       " 15.847295823427775,\n",
       " 14.01153839299475,\n",
       " 13.487140884267403,\n",
       " 13.70682566692999,\n",
       " 13.854320126857054,\n",
       " 14.6146624793637,\n",
       " 13.437899649311452,\n",
       " 12.9903985772313,\n",
       " 15.008406212059489,\n",
       " 15.17899097942185,\n",
       " 13.814724474865749,\n",
       " 14.096750782085586,\n",
       " 15.027845089474969,\n",
       " 15.15331472406866,\n",
       " 13.611690112841394,\n",
       " 16.187879938957007,\n",
       " 11.681082755317759,\n",
       " 15.000066394163996,\n",
       " 13.752745276749083,\n",
       " 12.888555248236921,\n",
       " 13.33932443532285,\n",
       " 13.12114883982239,\n",
       " 14.84105580792613,\n",
       " 16.75105430701384,\n",
       " 14.744514229838234,\n",
       " 13.996862533824789,\n",
       " 12.92442354546815,\n",
       " 14.202023271504233,\n",
       " 14.39912045012801,\n",
       " 15.880912858425456,\n",
       " 13.578115096648556,\n",
       " 12.555153461389004,\n",
       " 11.956080348426816,\n",
       " 14.324462557645283,\n",
       " 14.136630258921244,\n",
       " 13.845297145180135,\n",
       " 12.870452460365215,\n",
       " 15.18458744395655,\n",
       " 14.328728425821463,\n",
       " 14.793303308093346,\n",
       " 12.717239175927844,\n",
       " 15.080879649725578,\n",
       " 12.738510391872122,\n",
       " 16.862344802144253,\n",
       " 14.224042041425937,\n",
       " 13.379688325148994,\n",
       " 13.116071444127872,\n",
       " 13.647496316450276,\n",
       " 14.476681261953328,\n",
       " 12.638273523922589,\n",
       " 15.579750221865162,\n",
       " 11.61174466111485,\n",
       " 14.039067214672322,\n",
       " 13.431049076112108,\n",
       " 13.77625071164321,\n",
       " 14.05546171562738,\n",
       " 13.696868853025293,\n",
       " 13.471961929057304,\n",
       " 15.356864288818233,\n",
       " 13.920688415213483,\n",
       " 12.93991123882164,\n",
       " 15.563414193197096,\n",
       " 13.271341899422298,\n",
       " 14.161342867005581,\n",
       " 14.25354525372974,\n",
       " 14.576067009093357,\n",
       " 12.134806586617065,\n",
       " 12.877960257116708,\n",
       " 13.965254086921586,\n",
       " 15.005617686794245,\n",
       " 15.231357419368907,\n",
       " 14.89491829864304,\n",
       " 14.702466204528568,\n",
       " 14.56627759570015,\n",
       " 15.215440851409026,\n",
       " 14.303177662545679,\n",
       " 13.909353738953868,\n",
       " 16.998654949896515]"
      ]
     },
     "execution_count": 21,
     "metadata": {},
     "output_type": "execute_result"
    }
   ],
   "source": [
    "new_fruit=np.array([15, 15])\n",
    "\n",
    "distances=[]\n",
    "for x in X_train:\n",
    "    d=euclidean_distance(x, new_fruit)\n",
    "    distances.append(d)\n",
    "\n",
    "distances"
   ]
  },
  {
   "cell_type": "code",
   "execution_count": 29,
   "metadata": {},
   "outputs": [],
   "source": [
    "k=7"
   ]
  },
  {
   "cell_type": "code",
   "execution_count": 30,
   "metadata": {},
   "outputs": [
    {
     "data": {
      "text/plain": [
       "array([168, 131,   4, 189, 195, 156, 192], dtype=int64)"
      ]
     },
     "execution_count": 30,
     "metadata": {},
     "output_type": "execute_result"
    }
   ],
   "source": [
    "nearest_neighbors=np.argsort(distances)[0:k]\n",
    "nearest_neighbors"
   ]
  },
  {
   "cell_type": "code",
   "execution_count": 31,
   "metadata": {},
   "outputs": [
    {
     "data": {
      "text/plain": [
       "array([1, 1, 0, 1, 1, 1, 1])"
      ]
     },
     "execution_count": 31,
     "metadata": {},
     "output_type": "execute_result"
    }
   ],
   "source": [
    "Y_train[nearest_neighbors]"
   ]
  },
  {
   "cell_type": "code",
   "execution_count": 32,
   "metadata": {},
   "outputs": [],
   "source": [
    "result=np.bincount(Y_train[nearest_neighbors])"
   ]
  },
  {
   "cell_type": "code",
   "execution_count": 33,
   "metadata": {},
   "outputs": [
    {
     "data": {
      "text/plain": [
       "1"
      ]
     },
     "execution_count": 33,
     "metadata": {},
     "output_type": "execute_result"
    }
   ],
   "source": [
    "np.argmax(result)"
   ]
  },
  {
   "cell_type": "code",
   "execution_count": 34,
   "metadata": {},
   "outputs": [
    {
     "name": "stdout",
     "output_type": "stream",
     "text": [
      "Banana\n"
     ]
    }
   ],
   "source": [
    "if np.argmax(result)==0:\n",
    "    print(\"Apple\")\n",
    "elif np.argmax(result)==1:\n",
    "    print(\"Banana\")\n",
    "elif np.argmax(result)==2:\n",
    "    print(\"Watermelon\")"
   ]
  }
 ],
 "metadata": {
  "kernelspec": {
   "display_name": "Python 3",
   "language": "python",
   "name": "python3"
  },
  "language_info": {
   "codemirror_mode": {
    "name": "ipython",
    "version": 3
   },
   "file_extension": ".py",
   "mimetype": "text/x-python",
   "name": "python",
   "nbconvert_exporter": "python",
   "pygments_lexer": "ipython3",
   "version": "3.10.2"
  },
  "orig_nbformat": 4
 },
 "nbformat": 4,
 "nbformat_minor": 2
}
