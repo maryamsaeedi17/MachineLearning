{
 "cells": [
  {
   "cell_type": "markdown",
   "metadata": {},
   "source": [
    "![3fruits](Input\\watermelon-banana-and-apple-fruits-vector-15297432.jpg)\n",
    "\n",
    "- apple width ≈ 6cm\n",
    "- apple length ≈ 6cm\n",
    "\n",
    "- banana width ≈ 4cm\n",
    "- banana length ≈ 20cm\n",
    "\n",
    "- watermelon width ≈ 25cm\n",
    "- watermelon length ≈ 25 cm\n",
    "\n",
    "apple: 0\n",
    "banana: 1\n",
    "watermelon: 2"
   ]
  },
  {
   "cell_type": "code",
   "execution_count": 1,
   "metadata": {},
   "outputs": [],
   "source": [
    "import numpy as np\n",
    "import matplotlib.pyplot as plt"
   ]
  },
  {
   "cell_type": "code",
   "execution_count": 8,
   "metadata": {},
   "outputs": [],
   "source": [
    "n=100\n",
    "apple_width=np.random.normal(6, 1, n)\n",
    "apple_length=np.random.normal(6, 1, n)\n",
    "\n",
    "banana_width=np.random.normal(4, 1, n)\n",
    "banana_length=np.random.normal(20, 1, n)\n",
    "\n",
    "watermelon_width=np.random.normal(25, 1, n)\n",
    "watermelon_length=np.random.normal(25, 1, n)\n"
   ]
  },
  {
   "cell_type": "code",
   "execution_count": 21,
   "metadata": {},
   "outputs": [],
   "source": [
    "x_width=3\n",
    "x_lengh=9\n",
    "\n",
    "y_width=20\n",
    "y_lengh=23\n",
    "\n",
    "z_width=15\n",
    "z_lengh=15"
   ]
  },
  {
   "cell_type": "code",
   "execution_count": 22,
   "metadata": {},
   "outputs": [
    {
     "data": {
      "image/png": "[encoded data removed]",
      "text/plain": [
       "<Figure size 432x288 with 1 Axes>"
      ]
     },
     "metadata": {
      "needs_background": "light"
     },
     "output_type": "display_data"
    }
   ],
   "source": [
    "plt.scatter(apple_width, apple_length, c=\"red\", marker=\".\")\n",
    "plt.scatter(banana_width, banana_length, c=\"yellow\", marker=\".\")\n",
    "plt.scatter(watermelon_width, watermelon_length, c=\"green\", marker=\".\")\n",
    "plt.scatter(x_width, x_lengh, c=\"blue\", marker=\"o\")\n",
    "plt.scatter(y_width, y_lengh, c=\"purple\", marker=\"o\")\n",
    "plt.scatter(z_width, z_lengh, c=\"black\", marker=\"o\")\n",
    "plt.title(\"Apple, banana and watermelon\")\n",
    "plt.xlabel(\"Width\")\n",
    "plt.ylabel(\"Length\")\n",
    "plt.show()"
   ]
  },
  {
   "cell_type": "code",
   "execution_count": 25,
   "metadata": {},
   "outputs": [
    {
     "data": {
      "text/plain": [
       "(300, 2)"
      ]
     },
     "execution_count": 25,
     "metadata": {},
     "output_type": "execute_result"
    }
   ],
   "source": [
    "width = np.concatenate((apple_width, banana_width, watermelon_width))\n",
    "length = np.concatenate((apple_length, banana_length, watermelon_length))\n",
    "\n",
    "X_train=np.array([width, length]).T\n",
    "X_train.shape\n"
   ]
  },
  {
   "cell_type": "code",
   "execution_count": 29,
   "metadata": {},
   "outputs": [
    {
     "data": {
      "text/plain": [
       "array([0, 0, 0, 0, 0, 0, 0, 0, 0, 0, 0, 0, 0, 0, 0, 0, 0, 0, 0, 0, 0, 0,\n",
       "       0, 0, 0, 0, 0, 0, 0, 0, 0, 0, 0, 0, 0, 0, 0, 0, 0, 0, 0, 0, 0, 0,\n",
       "       0, 0, 0, 0, 0, 0, 0, 0, 0, 0, 0, 0, 0, 0, 0, 0, 0, 0, 0, 0, 0, 0,\n",
       "       0, 0, 0, 0, 0, 0, 0, 0, 0, 0, 0, 0, 0, 0, 0, 0, 0, 0, 0, 0, 0, 0,\n",
       "       0, 0, 0, 0, 0, 0, 0, 0, 0, 0, 0, 0, 1, 1, 1, 1, 1, 1, 1, 1, 1, 1,\n",
       "       1, 1, 1, 1, 1, 1, 1, 1, 1, 1, 1, 1, 1, 1, 1, 1, 1, 1, 1, 1, 1, 1,\n",
       "       1, 1, 1, 1, 1, 1, 1, 1, 1, 1, 1, 1, 1, 1, 1, 1, 1, 1, 1, 1, 1, 1,\n",
       "       1, 1, 1, 1, 1, 1, 1, 1, 1, 1, 1, 1, 1, 1, 1, 1, 1, 1, 1, 1, 1, 1,\n",
       "       1, 1, 1, 1, 1, 1, 1, 1, 1, 1, 1, 1, 1, 1, 1, 1, 1, 1, 1, 1, 1, 1,\n",
       "       1, 1, 2, 2, 2, 2, 2, 2, 2, 2, 2, 2, 2, 2, 2, 2, 2, 2, 2, 2, 2, 2,\n",
       "       2, 2, 2, 2, 2, 2, 2, 2, 2, 2, 2, 2, 2, 2, 2, 2, 2, 2, 2, 2, 2, 2,\n",
       "       2, 2, 2, 2, 2, 2, 2, 2, 2, 2, 2, 2, 2, 2, 2, 2, 2, 2, 2, 2, 2, 2,\n",
       "       2, 2, 2, 2, 2, 2, 2, 2, 2, 2, 2, 2, 2, 2, 2, 2, 2, 2, 2, 2, 2, 2,\n",
       "       2, 2, 2, 2, 2, 2, 2, 2, 2, 2, 2, 2, 2, 2])"
      ]
     },
     "execution_count": 29,
     "metadata": {},
     "output_type": "execute_result"
    }
   ],
   "source": [
    "Y_apples=np.zeros(n, dtype=int)\n",
    "Y_bananas=np.ones(n, dtype=int)\n",
    "Y_watermelon=np.ones(n, dtype=int)*2\n",
    "\n",
    "Y_train=np.concatenate((Y_apples, Y_bananas, Y_watermelon))\n",
    "Y_train"
   ]
  }
 ],
 "metadata": {
  "kernelspec": {
   "display_name": "Python 3",
   "language": "python",
   "name": "python3"
  },
  "language_info": {
   "codemirror_mode": {
    "name": "ipython",
    "version": 3
   },
   "file_extension": ".py",
   "mimetype": "text/x-python",
   "name": "python",
   "nbconvert_exporter": "python",
   "pygments_lexer": "ipython3",
   "version": "3.10.2"
  },
  "orig_nbformat": 4
 },
 "nbformat": 4,
 "nbformat_minor": 2
}
